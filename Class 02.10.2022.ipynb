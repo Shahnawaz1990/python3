{
 "cells": [
  {
   "cell_type": "code",
   "execution_count": 8,
   "id": "cf3761c7",
   "metadata": {
    "colab": {
     "base_uri": "https://localhost:8080/",
     "height": 651
    },
    "executionInfo": {
     "elapsed": 29539,
     "status": "error",
     "timestamp": 1665029448097,
     "user": {
      "displayName": "Shahnawaz Nazim Ali",
      "userId": "00477060486990640142"
     },
     "user_tz": -300
    },
    "id": "cf3761c7",
    "outputId": "7ce13e36-f6e1-41e2-83d9-4e65603334fe"
   },
   "outputs": [
    {
     "name": "stdout",
     "output_type": "stream",
     "text": [
      "Enter Class Name: python\n",
      "Enter Section: A\n",
      "Enter year: 22\n",
      "file open successfully python_A_22.csv\n",
      "1 ['925156', 'muddasir', 'saqib raza', 'raza@gmail.com', '300889900']\n",
      "Enter present or absent: a\n",
      "2 ['925157', 'kamran', 'nasir', 'nasir@gmail.com', '300889901']\n",
      "Enter present or absent: p\n",
      "3 ['925158', 'amir', 'arif', 'arif@gmail.com', '300889902']\n",
      "Enter present or absent: p\n",
      "4 ['925159', 'ashraf', 'mudassir', 'ashraf@gmail.com', '300889903']\n",
      "Enter present or absent: a\n",
      "5 ['925160', 'waqas', 'muddasir', 'waqas@gmail.com', '300889904']\n",
      "Enter present or absent: p\n",
      "6 ['925161', 'haroon', 'kamran', 'haroon@gmail.com', '300889905']\n",
      "Enter present or absent: a\n",
      "7 ['925162', 'moosa', 'amir', 'moosa@gmail.com', '300889906']\n",
      "Enter present or absent: p\n",
      "8 ['925163', 'javed', 'ashraf', 'javed@gmail.com', '300889907']\n",
      "Enter present or absent: a\n",
      "9 ['925164', 'sohail', 'waqas', 'sohail@gmail.com', '300889908']\n",
      "Enter present or absent: p\n",
      "10 ['925165', 'waqar', 'haroon', 'waqar@gmail.com', '300889909']\n",
      "Enter present or absent: a\n",
      "['rollnumber', 'name', 'father', 'email', 'phone']\n",
      "['rollnumber', 'name', 'father', 'email', 'phone']\n",
      "header from absent file ['rollnumber', 'name', 'father', 'email', 'phone']\n",
      "header from present file ['rollnumber', 'name', 'father', 'email', 'phone']\n",
      "header from absent file ['rollnumber', 'name', 'father', 'email', 'phone']\n",
      "header from absent file ['rollnumber', 'name', 'father', 'email', 'phone', 'Date & Time']\n",
      "header from present file ['rollnumber', 'name', 'father', 'email', 'phone', 'Date & Time']\n",
      "header from absent file ['rollnumber', 'name', 'father', 'email', 'phone', 'Date & Time']\n",
      "['925156', 'muddasir', 'saqib raza', 'raza@gmail.com', '300889900', 'Sat Oct  8 06:34:11 2022']\n",
      "['925159', 'ashraf', 'mudassir', 'ashraf@gmail.com', '300889903', 'Sat Oct  8 06:34:11 2022']\n",
      "['925161', 'haroon', 'kamran', 'haroon@gmail.com', '300889905', 'Sat Oct  8 06:34:11 2022']\n",
      "['925163', 'javed', 'ashraf', 'javed@gmail.com', '300889907', 'Sat Oct  8 06:34:11 2022']\n",
      "['925165', 'waqar', 'haroon', 'waqar@gmail.com', '300889909', 'Sat Oct  8 06:34:11 2022']\n",
      "['rollnumber', 'name', 'father', 'email', 'phone', 'Date & Time']\n",
      "['925157', 'kamran', 'nasir', 'nasir@gmail.com', '300889901', 'Sat Oct  8 06:34:11 2022']\n",
      "['925158', 'amir', 'arif', 'arif@gmail.com', '300889902', 'Sat Oct  8 06:34:11 2022']\n",
      "['925160', 'waqas', 'muddasir', 'waqas@gmail.com', '300889904', 'Sat Oct  8 06:34:11 2022']\n",
      "['925162', 'moosa', 'amir', 'moosa@gmail.com', '300889906', 'Sat Oct  8 06:34:11 2022']\n",
      "['925164', 'sohail', 'waqas', 'sohail@gmail.com', '300889908', 'Sat Oct  8 06:34:11 2022']\n"
     ]
    }
   ],
   "source": [
    "import csv\n",
    "import time\n",
    "from datetime import date\n",
    "\n",
    "file = input(\"Enter Class Name: \")\n",
    "section = input(\"Enter Section: \")\n",
    "year = input(\"Enter year: \")\n",
    "file_name = file + \"_\" + section + \"_\" + year + \".csv\"\n",
    "absentees = []\n",
    "presentees = []\n",
    "time_show = time.asctime(time.localtime(time.time()))\n",
    "date_show = date.today().strftime(\"%d-%m-%y\")\n",
    "\n",
    "with open(file_name) as file:\n",
    "        csv_file = csv.reader(file)\n",
    "        print(\"file open successfully\", file_name)\n",
    "\n",
    "        for ind, each_line in enumerate(csv_file):\n",
    "            if ind == 0:\n",
    "                absentees.append(each_line)\n",
    "                presentees.append(each_line)\n",
    "            else:\n",
    "                print (ind, each_line)\n",
    "                user = input(\"Enter present or absent: \")\n",
    "                if user == \"a\":\n",
    "                    absentees.append(each_line)\n",
    "                if user == \"p\":\n",
    "                    presentees.append(each_line)\n",
    "print(presentees[0])\n",
    "print(absentees[0])\n",
    "for i, linea in enumerate(absentees):\n",
    "    if i == 0:\n",
    "        print(\"header from absent file\", linea)\n",
    "        print(\"header from present file\", presentees[0])\n",
    "        print(\"header from absent file\", absentees[0])\n",
    "        \n",
    "        linea.append(\"Date & Time\")\n",
    "        \n",
    "        print(\"header from absent file\", linea)\n",
    "        print(\"header from present file\", presentees[0])\n",
    "        print(\"header from absent file\", absentees[0])\n",
    "\n",
    "    else:\n",
    "        linea.append(time_show)\n",
    "        print(linea)\n",
    "\n",
    "for j, lineb in enumerate(presentees):\n",
    "    if j == 0:\n",
    "        lineb[len(lineb)-1] = (\"Date & Time\")\n",
    "        print(lineb)\n",
    "    else:\n",
    "        lineb.append(time_show)\n",
    "        print(lineb)\n",
    "\n",
    "\n",
    "present_file = \"present \" + date_show + \".csv\"      \n",
    "absent_file = \"absent \" + date_show + \".csv\"\n",
    "\n",
    "with open(present_file, \"w\") as fileab:\n",
    "  record_p = csv.writer(fileab)\n",
    "  record_p.writerows(presentees)\n",
    "\n",
    "with open(absent_file, \"w\") as filepre:\n",
    "  record_a = csv.writer(filepre)\n",
    "  record_a.writerows(absentees)\n",
    "                \n"
   ]
  },
  {
   "cell_type": "code",
   "execution_count": null,
   "id": "0d79a61e",
   "metadata": {},
   "outputs": [],
   "source": []
  },
  {
   "cell_type": "code",
   "execution_count": null,
   "id": "11e035ea",
   "metadata": {},
   "outputs": [],
   "source": []
  },
  {
   "cell_type": "code",
   "execution_count": null,
   "id": "c54052cd",
   "metadata": {},
   "outputs": [],
   "source": []
  }
 ],
 "metadata": {
  "colab": {
   "collapsed_sections": [],
   "provenance": []
  },
  "kernelspec": {
   "display_name": "Python 3 (ipykernel)",
   "language": "python",
   "name": "python3"
  },
  "language_info": {
   "codemirror_mode": {
    "name": "ipython",
    "version": 3
   },
   "file_extension": ".py",
   "mimetype": "text/x-python",
   "name": "python",
   "nbconvert_exporter": "python",
   "pygments_lexer": "ipython3",
   "version": "3.9.12"
  }
 },
 "nbformat": 4,
 "nbformat_minor": 5
}
