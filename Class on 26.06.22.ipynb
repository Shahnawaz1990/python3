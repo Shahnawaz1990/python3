{
 "cells": [
  {
   "cell_type": "code",
   "execution_count": 1,
   "id": "48fd950d",
   "metadata": {},
   "outputs": [
    {
     "name": "stdout",
     "output_type": "stream",
     "text": [
      "Hello World by Shahnawaz\n"
     ]
    }
   ],
   "source": [
    "print (\"Hello World by Shahnawaz\")"
   ]
  },
  {
   "cell_type": "code",
   "execution_count": 4,
   "id": "95189c30",
   "metadata": {},
   "outputs": [
    {
     "name": "stdout",
     "output_type": "stream",
     "text": [
      "<class 'float'>\n",
      "22.0\n"
     ]
    }
   ],
   "source": [
    "num1 = 22.0\n",
    "print (type(num1))\n",
    "print (num1)\n",
    "\n",
    "num"
   ]
  },
  {
   "cell_type": "code",
   "execution_count": 5,
   "id": "95d82f95",
   "metadata": {},
   "outputs": [
    {
     "name": "stdout",
     "output_type": "stream",
     "text": [
      "Please Enter a number45\n"
     ]
    }
   ],
   "source": [
    "num = input(\"Please Enter a number\")"
   ]
  },
  {
   "cell_type": "code",
   "execution_count": 8,
   "id": "b959ce63",
   "metadata": {},
   "outputs": [
    {
     "name": "stdout",
     "output_type": "stream",
     "text": [
      "45\n",
      "<class 'str'>\n"
     ]
    }
   ],
   "source": [
    "print (num)\n",
    "print (type(num))"
   ]
  },
  {
   "cell_type": "code",
   "execution_count": 11,
   "id": "7a562324",
   "metadata": {},
   "outputs": [
    {
     "name": "stdout",
     "output_type": "stream",
     "text": [
      "<class 'str'>\n",
      "<class 'int'>\n"
     ]
    }
   ],
   "source": [
    "int_num = int(num)\n",
    "print (type(num))\n",
    "print (type(int_num))"
   ]
  },
  {
   "cell_type": "code",
   "execution_count": 13,
   "id": "6e4faca4",
   "metadata": {},
   "outputs": [
    {
     "name": "stdout",
     "output_type": "stream",
     "text": [
      "enter number 10\n",
      "enter another number 20\n",
      "30\n"
     ]
    }
   ],
   "source": [
    "number1 = int(input(\"enter number \"))\n",
    "number2 = int(input(\"enter another number \"))\n",
    "print(number1+number2)"
   ]
  },
  {
   "cell_type": "code",
   "execution_count": 14,
   "id": "32a83c24",
   "metadata": {},
   "outputs": [
    {
     "name": "stdout",
     "output_type": "stream",
     "text": [
      "10\n"
     ]
    }
   ],
   "source": [
    "age = 10\n",
    "print (age)"
   ]
  },
  {
   "cell_type": "code",
   "execution_count": 15,
   "id": "e771cea5",
   "metadata": {},
   "outputs": [
    {
     "name": "stdout",
     "output_type": "stream",
     "text": [
      "30\n"
     ]
    }
   ],
   "source": [
    "age += 20\n",
    "print (age)"
   ]
  },
  {
   "cell_type": "code",
   "execution_count": 16,
   "id": "68e73275",
   "metadata": {},
   "outputs": [
    {
     "name": "stdout",
     "output_type": "stream",
     "text": [
      "25\n"
     ]
    }
   ],
   "source": [
    "age -= 5\n",
    "print (age)"
   ]
  },
  {
   "cell_type": "code",
   "execution_count": 19,
   "id": "53023744",
   "metadata": {},
   "outputs": [
    {
     "name": "stdout",
     "output_type": "stream",
     "text": [
      "Hello - Pakistan\n"
     ]
    }
   ],
   "source": [
    "greeting = \"Hello\"\n",
    "country = \"Pakistan\"\n",
    "greet_country = greeting + \" - \" + country\n",
    "print (greet_country)"
   ]
  },
  {
   "cell_type": "code",
   "execution_count": 20,
   "id": "d906300c",
   "metadata": {},
   "outputs": [
    {
     "name": "stdout",
     "output_type": "stream",
     "text": [
      "petrol price: 250\n"
     ]
    }
   ],
   "source": [
    "print (\"petrol price: \" + str(250))"
   ]
  },
  {
   "cell_type": "code",
   "execution_count": 29,
   "id": "2222c4da",
   "metadata": {},
   "outputs": [
    {
     "name": "stdout",
     "output_type": "stream",
     "text": [
      "Please state ur Genger! gg\n",
      "Gender Provided is gg\n",
      "Please sit in Left Column\n",
      "Another statement in else\n",
      "Another statement in else2\n",
      "Another statement in else3\n"
     ]
    }
   ],
   "source": [
    "gender = input(\"Please state ur Genger! \")\n",
    "print (\"Gender Provided is \" + gender)\n",
    "\n",
    "if gender == \"g\":\n",
    "    print (\"Please sit in Right Column\")\n",
    "    print (\"Another Statement in if\")\n",
    "    print (\"Another Statement in if2\")\n",
    "    print (\"Another Statement in if3\")\n",
    "else:\n",
    "    print (\"Please sit in Left Column\")\n",
    "    print (\"Another statement in else\")\n",
    "    print (\"Another statement in else2\")\n",
    "    print (\"Another statement in else3\")"
   ]
  },
  {
   "cell_type": "code",
   "execution_count": 40,
   "id": "5e378f2b",
   "metadata": {},
   "outputs": [
    {
     "name": "stdout",
     "output_type": "stream",
     "text": [
      "Enter your age: 18\n",
      "18\n",
      "Non-Adult\n"
     ]
    }
   ],
   "source": [
    "age = int(input(\"Enter your age: \"))\n",
    "print (age)\n",
    "if age >18:\n",
    "    print (\"Adult\")\n",
    "else:\n",
    "    print (\"Non-Adult\")"
   ]
  },
  {
   "cell_type": "code",
   "execution_count": null,
   "id": "3fa68c8b",
   "metadata": {},
   "outputs": [],
   "source": [
    "citizen = input(\"Are you Pakistan? Type y for yes or n for no \")\n",
    "\n",
    "if citizen == \"y\":\n",
    "    print (\"You can go for vote\")\n",
    "    age = int(input (\"Enter your age \"))\n",
    "    age_diff = str(18-age)\n",
    "    if age >= 18:\n",
    "        print (\"You can go for vote\")\n",
    "    else:\n",
    "        print (\"You can come after \" + age_diff + \" years\")\n",
    "else:\n",
    "    print (\"No need for vote\")"
   ]
  },
  {
   "cell_type": "code",
   "execution_count": null,
   "id": "b23af53b",
   "metadata": {},
   "outputs": [],
   "source": []
  }
 ],
 "metadata": {
  "kernelspec": {
   "display_name": "Python 3 (ipykernel)",
   "language": "python",
   "name": "python3"
  },
  "language_info": {
   "codemirror_mode": {
    "name": "ipython",
    "version": 3
   },
   "file_extension": ".py",
   "mimetype": "text/x-python",
   "name": "python",
   "nbconvert_exporter": "python",
   "pygments_lexer": "ipython3",
   "version": "3.9.12"
  }
 },
 "nbformat": 4,
 "nbformat_minor": 5
}
