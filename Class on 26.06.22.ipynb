{
 "cells": [
  {
   "cell_type": "code",
   "execution_count": 1,
   "id": "10aedf87",
   "metadata": {},
   "outputs": [
    {
     "name": "stdout",
     "output_type": "stream",
     "text": [
      "Hello World by Shahnawaz\n"
     ]
    }
   ],
   "source": [
    "print (\"Hello World by Shahnawaz\")"
   ]
  },
  {
   "cell_type": "code",
   "execution_count": 4,
   "id": "5fe71d7b",
   "metadata": {},
   "outputs": [
    {
     "name": "stdout",
     "output_type": "stream",
     "text": [
      "<class 'float'>\n",
      "22.0\n"
     ]
    }
   ],
   "source": [
    "num1 = 22.0\n",
    "print (type(num1))\n",
    "print (num1)\n",
    "\n",
    "num"
   ]
  },
  {
   "cell_type": "code",
   "execution_count": 5,
   "id": "e8afbef5",
   "metadata": {},
   "outputs": [
    {
     "name": "stdout",
     "output_type": "stream",
     "text": [
      "Please Enter a number45\n"
     ]
    }
   ],
   "source": [
    "num = input(\"Please Enter a number\")"
   ]
  },
  {
   "cell_type": "code",
   "execution_count": 8,
   "id": "87f8a550",
   "metadata": {},
   "outputs": [
    {
     "name": "stdout",
     "output_type": "stream",
     "text": [
      "45\n",
      "<class 'str'>\n"
     ]
    }
   ],
   "source": [
    "print (num)\n",
    "print (type(num))"
   ]
  },
  {
   "cell_type": "code",
   "execution_count": 11,
   "id": "3ddd20e0",
   "metadata": {},
   "outputs": [
    {
     "name": "stdout",
     "output_type": "stream",
     "text": [
      "<class 'str'>\n",
      "<class 'int'>\n"
     ]
    }
   ],
   "source": [
    "int_num = int(num)\n",
    "print (type(num))\n",
    "print (type(int_num))"
   ]
  },
  {
   "cell_type": "code",
   "execution_count": 13,
   "id": "e22a26fd",
   "metadata": {},
   "outputs": [
    {
     "name": "stdout",
     "output_type": "stream",
     "text": [
      "enter number 10\n",
      "enter another number 20\n",
      "30\n"
     ]
    }
   ],
   "source": [
    "number1 = int(input(\"enter number \"))\n",
    "number2 = int(input(\"enter another number \"))\n",
    "print(number1+number2)"
   ]
  },
  {
   "cell_type": "code",
   "execution_count": 14,
   "id": "0d22d013",
   "metadata": {},
   "outputs": [
    {
     "name": "stdout",
     "output_type": "stream",
     "text": [
      "10\n"
     ]
    }
   ],
   "source": [
    "age = 10\n",
    "print (age)"
   ]
  },
  {
   "cell_type": "code",
   "execution_count": 15,
   "id": "3dcc146a",
   "metadata": {},
   "outputs": [
    {
     "name": "stdout",
     "output_type": "stream",
     "text": [
      "30\n"
     ]
    }
   ],
   "source": [
    "age += 20\n",
    "print (age)"
   ]
  },
  {
   "cell_type": "code",
   "execution_count": 16,
   "id": "452779ad",
   "metadata": {},
   "outputs": [
    {
     "name": "stdout",
     "output_type": "stream",
     "text": [
      "25\n"
     ]
    }
   ],
   "source": [
    "age -= 5\n",
    "print (age)"
   ]
  },
  {
   "cell_type": "code",
   "execution_count": 19,
   "id": "2721ba84",
   "metadata": {},
   "outputs": [
    {
     "name": "stdout",
     "output_type": "stream",
     "text": [
      "Hello - Pakistan\n"
     ]
    }
   ],
   "source": [
    "greeting = \"Hello\"\n",
    "country = \"Pakistan\"\n",
    "greet_country = greeting + \" - \" + country\n",
    "print (greet_country)"
   ]
  },
  {
   "cell_type": "code",
   "execution_count": 20,
   "id": "10927795",
   "metadata": {},
   "outputs": [
    {
     "name": "stdout",
     "output_type": "stream",
     "text": [
      "petrol price: 250\n"
     ]
    }
   ],
   "source": [
    "print (\"petrol price: \" + str(250))"
   ]
  },
  {
   "cell_type": "code",
   "execution_count": null,
   "id": "424ddee7",
   "metadata": {},
   "outputs": [],
   "source": []
  }
 ],
 "metadata": {
  "kernelspec": {
   "display_name": "Python 3 (ipykernel)",
   "language": "python",
   "name": "python3"
  },
  "language_info": {
   "codemirror_mode": {
    "name": "ipython",
    "version": 3
   },
   "file_extension": ".py",
   "mimetype": "text/x-python",
   "name": "python",
   "nbconvert_exporter": "python",
   "pygments_lexer": "ipython3",
   "version": "3.9.12"
  }
 },
 "nbformat": 4,
 "nbformat_minor": 5
}
