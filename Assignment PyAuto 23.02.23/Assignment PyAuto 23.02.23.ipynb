{
 "cells": [
  {
   "cell_type": "code",
   "execution_count": 15,
   "id": "037b5521",
   "metadata": {},
   "outputs": [],
   "source": [
    "import pyautogui\n",
    "import time"
   ]
  },
  {
   "cell_type": "code",
   "execution_count": 4,
   "id": "03e9a95b",
   "metadata": {},
   "outputs": [
    {
     "data": {
      "text/plain": [
       "Point(x=690, y=274)"
      ]
     },
     "execution_count": 4,
     "metadata": {},
     "output_type": "execute_result"
    }
   ],
   "source": [
    "pyautogui.position()"
   ]
  },
  {
   "cell_type": "code",
   "execution_count": 13,
   "id": "738ccc97",
   "metadata": {},
   "outputs": [],
   "source": [
    "pyautogui.moveTo(690, 274)"
   ]
  },
  {
   "cell_type": "code",
   "execution_count": 38,
   "id": "bf959d60",
   "metadata": {},
   "outputs": [
    {
     "name": "stdout",
     "output_type": "stream",
     "text": [
      "like not found\n",
      "like not found\n",
      "like not found\n",
      "like not found\n",
      "like not found\n",
      "like not found\n",
      "like not found\n",
      "like not found\n",
      "like not found\n",
      "like not found\n"
     ]
    }
   ],
   "source": [
    "def likeit():\n",
    "    like = pyautogui.locateOnScreen(\"likec.png\", grayscale=False)\n",
    "    for i in range(10):\n",
    "            pyautogui.scroll(-500)\n",
    "            time.sleep(0.25)\n",
    "            if like:\n",
    "                pyautogui.moveTo(like)\n",
    "            else:\n",
    "                print(\"like not found\")\n",
    "            \n",
    "    \n",
    "with pyautogui.hold(\"ctrl\"):\n",
    "    pyautogui.press(\"t\")\n",
    "time.sleep(0.5)\n",
    "\n",
    "pyautogui.write(\"https://www.facebook.com/groups/piaic\")\n",
    "time.sleep(0.5)\n",
    "pyautogui.press(\"enter\")\n",
    "time.sleep(0.5)\n",
    "likeit()\n"
   ]
  },
  {
   "cell_type": "code",
   "execution_count": 8,
   "id": "1d4888ea",
   "metadata": {},
   "outputs": [],
   "source": [
    "# for i in range (5):\n",
    "#     pyautogui.scroll(-500)"
   ]
  },
  {
   "cell_type": "code",
   "execution_count": 32,
   "id": "ba96f4d5",
   "metadata": {},
   "outputs": [],
   "source": [
    "pylogo = pyautogui.locateOnScreen(\"pylogo.png\")\n",
    "if pylogo:\n",
    "    pyautogui.moveTo(pylogo)\n"
   ]
  },
  {
   "cell_type": "code",
   "execution_count": null,
   "id": "c40c73b4",
   "metadata": {},
   "outputs": [],
   "source": []
  },
  {
   "cell_type": "code",
   "execution_count": null,
   "id": "e36fe40c",
   "metadata": {},
   "outputs": [],
   "source": []
  },
  {
   "cell_type": "code",
   "execution_count": null,
   "id": "2e1e9c8b",
   "metadata": {},
   "outputs": [],
   "source": []
  },
  {
   "cell_type": "code",
   "execution_count": null,
   "id": "52fd4cc2",
   "metadata": {},
   "outputs": [],
   "source": []
  },
  {
   "cell_type": "code",
   "execution_count": null,
   "id": "fca68ce6",
   "metadata": {},
   "outputs": [],
   "source": []
  },
  {
   "cell_type": "code",
   "execution_count": null,
   "id": "9503503d",
   "metadata": {},
   "outputs": [],
   "source": []
  },
  {
   "cell_type": "code",
   "execution_count": null,
   "id": "c4c115d3",
   "metadata": {},
   "outputs": [],
   "source": []
  },
  {
   "cell_type": "code",
   "execution_count": null,
   "id": "33abf218",
   "metadata": {},
   "outputs": [],
   "source": []
  },
  {
   "cell_type": "code",
   "execution_count": null,
   "id": "c46beb25",
   "metadata": {},
   "outputs": [],
   "source": []
  },
  {
   "cell_type": "code",
   "execution_count": null,
   "id": "dfaecef6",
   "metadata": {},
   "outputs": [],
   "source": []
  },
  {
   "cell_type": "code",
   "execution_count": null,
   "id": "79d59f70",
   "metadata": {},
   "outputs": [],
   "source": []
  }
 ],
 "metadata": {
  "kernelspec": {
   "display_name": "Python 3 (ipykernel)",
   "language": "python",
   "name": "python3"
  },
  "language_info": {
   "codemirror_mode": {
    "name": "ipython",
    "version": 3
   },
   "file_extension": ".py",
   "mimetype": "text/x-python",
   "name": "python",
   "nbconvert_exporter": "python",
   "pygments_lexer": "ipython3",
   "version": "3.9.12"
  }
 },
 "nbformat": 4,
 "nbformat_minor": 5
}
