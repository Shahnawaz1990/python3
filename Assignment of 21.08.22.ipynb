{
 "cells": [
  {
   "cell_type": "code",
   "execution_count": 30,
   "id": "0e4ebbd8",
   "metadata": {},
   "outputs": [
    {
     "name": "stdout",
     "output_type": "stream",
     "text": [
      "Give Student id: 1001\n",
      "Give Student class:ai or cnc: cnc\n",
      "Give Student exam:quiz1 or quiz2 or mid or final mid\n",
      "Marks of arif in cnc mid exam is 50\n"
     ]
    }
   ],
   "source": [
    "class1={\"name\":\"AI\"\n",
    "       }\n",
    "class2={\"name\":\"CNC\"\n",
    "       }\n",
    "students = {\n",
    "\"student_1001\" : {\n",
    "        \"name\" : \"arif\",\n",
    "        \"class_ai\" : class1, \"marks_ai\" : {\n",
    "            \"quiz1\" : 90,\n",
    "            \"quiz2\" : 95,\n",
    "            \"mid\" : 80,\n",
    "            \"final\" : 85    \n",
    "        },\n",
    "        \"class_cnc\" : class2, \"marks_cnc\":\n",
    "        {\n",
    "            \"quiz1\" : 40,\n",
    "            \"quiz2\" : 45,\n",
    "            \"mid\" : 50,\n",
    "            \"final\" : 55    \n",
    "        }\n",
    "},\n",
    "\"student_1002\" : {\n",
    "        \"name\" : \"babar\",\n",
    "        \"class_ai\" : class1, \"marks_ai\" : {\n",
    "            \"quiz1\" : 90,\n",
    "            \"quiz2\" : 95,\n",
    "            \"mid\" : 80,\n",
    "            \"final\" : 85    \n",
    "        },\n",
    "        \"class_cnc\" : class2,\n",
    "        \"marks_cnc\":\n",
    "        {\n",
    "            \"quiz1\" : 41,\n",
    "            \"quiz2\" : 46,\n",
    "            \"mid\" : 51,\n",
    "            \"final\" : 56           \n",
    "        }\n",
    "},\n",
    "\"student_1003\" : {\"name\" : \"waqar\", \"class_ai\" : class1, \"marks_ai\":{\"quiz1\" : 42, \"quiz2\" : 48, \"mid\" : 53,\n",
    "            \"final\" : 58}, \"class_cnc\" : class2, \"marks_cnc\":{\"quiz1\" : 42, \"quiz2\" : 48, \"mid\" : 53,\n",
    "            \"final\" : 58}},\n",
    "\"student_1004\" : {\"name\" : \"zakir\", \"class_ai\" : class1,\"marks_ai\":{\"quiz1\" : 42, \"quiz2\" : 48, \"mid\" : 53,\n",
    "            \"final\" : 58}, \"class_cnc\" : class2, \"marks_cnc\":{\"quiz1\" : 43, \"quiz2\" : 49, \"mid\" : 54,\n",
    "            \"final\" : 59}},\n",
    "\"student_1005\" : {\"name\" : \"hussain\", \"class_ai\" : class1,\"marks_ai\":{\"quiz1\" : 42, \"quiz2\" : 48, \"mid\" : 53,\n",
    "            \"final\" : 58}, \"class_cnc\" : class2, \"marks_cnc\":{\"quiz1\" : 44, \"quiz2\" : 50, \"mid\" : 55,\n",
    "            \"final\" : 60}},\n",
    "\"student_1006\" : {\"name\" : \"hasnain\", \"class_ai\" : class1,\"marks_ai\":{\"quiz1\" : 42, \"quiz2\" : 48, \"mid\" : 53,\n",
    "            \"final\" : 58}, \"class_cnc\" : class2, \"marks_cnc\":{\"quiz1\" : 45, \"quiz2\" : 51, \"mid\" : 56,\n",
    "            \"final\" : 61}},\n",
    "\"student_1007\" : {\"name\" : \"javed\", \"class_ai\" : class1,\"marks_ai\":{\"quiz1\" : 42, \"quiz2\" : 48, \"mid\" : 53,\n",
    "            \"final\" : 58}, \"class_cnc\" : class2, \"marks_cnc\":{\"quiz1\" : 46, \"quiz2\" : 52, \"mid\" : 57,\n",
    "            \"final\" : 62}},\n",
    "\"student_1008\" : {\"name\" : \"jawwad\", \"class_ai\" : class1,\"marks_ai\":{\"quiz1\" : 42, \"quiz2\" : 48, \"mid\" : 53,\n",
    "            \"final\" : 58}, \"class_cnc\" : class2, \"marks_cnc\":{\"quiz1\" : 47, \"quiz2\" : 53, \"mid\" : 58,\n",
    "            \"final\" : 63}},\n",
    "\"student_1009\" : {\"name\" : \"aftab\", \"class_ai\" : class1,\"marks_ai\":{\"quiz1\" : 42, \"quiz2\" : 48, \"mid\" : 53,\n",
    "            \"final\" : 58}, \"class_cnc\" : class2, \"marks_cnc\":{\"quiz1\" : 48, \"quiz2\" : 54, \"mid\" : 59,\n",
    "            \"final\" : 64}},\n",
    "\"student_1010\" : {\"name\" : \"iqbal\", \"class_ai\" : class1,\"marks_ai\":{\"quiz1\" : 42, \"quiz2\" : 48, \"mid\" : 53,\n",
    "            \"final\" : 58}, \"class_cnc\" : class2, \"marks_cnc\":{\"quiz1\" : 49, \"quiz2\" : 55, \"mid\" : 60,\n",
    "            \"final\" : 65}}\n",
    "}\n",
    "stud_id = input (\"Give Student id: \")\n",
    "stud_id = \"student_\" + stud_id\n",
    "stud_class = input (\"Give Student class:ai or cnc: \")\n",
    "stud_class_a = \"marks_\" + stud_class\n",
    "stud_class_b = \"class_\" + stud_class\n",
    "stud_exam = input (\"Give Student exam:quiz1 or quiz2 or mid or final \")\n",
    "print (\"Marks of\" , students[stud_id][\"name\"] , \"in\" , stud_class, stud_exam , \"exam is\" , \n",
    "       students[stud_id][stud_class_a][stud_exam])"
   ]
  },
  {
   "cell_type": "code",
   "execution_count": null,
   "id": "37cd7ce6",
   "metadata": {},
   "outputs": [],
   "source": []
  }
 ],
 "metadata": {
  "kernelspec": {
   "display_name": "Python 3 (ipykernel)",
   "language": "python",
   "name": "python3"
  },
  "language_info": {
   "codemirror_mode": {
    "name": "ipython",
    "version": 3
   },
   "file_extension": ".py",
   "mimetype": "text/x-python",
   "name": "python",
   "nbconvert_exporter": "python",
   "pygments_lexer": "ipython3",
   "version": "3.9.12"
  }
 },
 "nbformat": 4,
 "nbformat_minor": 5
}
