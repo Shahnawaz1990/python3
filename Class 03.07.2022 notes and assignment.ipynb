{
 "cells": [
  {
   "cell_type": "code",
   "execution_count": 1,
   "id": "07b05614",
   "metadata": {},
   "outputs": [
    {
     "name": "stdout",
     "output_type": "stream",
     "text": [
      "True\n",
      "True\n",
      "True\n",
      "False\n"
     ]
    }
   ],
   "source": [
    "print (1 >= -1)\n",
    "print (2 <= 3)\n",
    "print (5 >= (6-1))\n",
    "print (2!=(1*2))\n"
   ]
  },
  {
   "cell_type": "code",
   "execution_count": 7,
   "id": "1bc61c4c",
   "metadata": {},
   "outputs": [
    {
     "name": "stdout",
     "output_type": "stream",
     "text": [
      "Enter your Percentage 49\n",
      "You are failed.\n"
     ]
    }
   ],
   "source": [
    "percent = int(input(\"Enter your Percentage \"))\n",
    "\n",
    "if percent >= 80:\n",
    "    print (\"You got A+\")\n",
    "elif percent >= 70:\n",
    "    print (\"You got A\")\n",
    "elif percent >= 60:\n",
    "    print (\"You got B\")\n",
    "elif percent >= 50:\n",
    "    print (\"You got C\")\n",
    "else:\n",
    "    print (\"You are failed.\")"
   ]
  },
  {
   "cell_type": "code",
   "execution_count": 12,
   "id": "1cd9ee50",
   "metadata": {},
   "outputs": [
    {
     "name": "stdout",
     "output_type": "stream",
     "text": [
      "Enter your percentage 45\n",
      "You are failed\n"
     ]
    }
   ],
   "source": [
    "per = int(input(\"Enter your percentage \"))\n",
    "\n",
    "if per >= 80 and per <= 100:\n",
    "    print (\"You got A+\")\n",
    "elif per >= 70 and per <= 79:\n",
    "    print (\"You got A\")\n",
    "elif per >= 60 and per <= 69:\n",
    "    print (\"You got B\")\n",
    "elif per >= 50 and per <= 59:\n",
    "    print (\"You got C\")\n",
    "else:\n",
    "    print (\"You are failed\")"
   ]
  },
  {
   "cell_type": "code",
   "execution_count": 19,
   "id": "d0ae2a79",
   "metadata": {},
   "outputs": [
    {
     "name": "stdout",
     "output_type": "stream",
     "text": [
      "Enter your age: 19\n",
      "Please Provide your gender: m/f m\n",
      "Provide your Salary per month: 25000\n",
      "Issue Short Expiry Card\n"
     ]
    }
   ],
   "source": [
    "age = int(input(\"Enter your age: \"))\n",
    "gender = input(\"Please Provide your gender: m/f \")\n",
    "salary = int(input(\"Provide your Salary per month: \"))\n",
    "\n",
    "if age <= 18:\n",
    "    print (\"You are under age\")\n",
    "if age >= 65:\n",
    "    print (\"Issue Life time expiry card \")\n",
    "if gender == \"f\":\n",
    "    if age >= 19 and age <= 25:\n",
    "        print (\"Issue Short Expiry Card \")\n",
    "    else:\n",
    "        print (\"Issue Longer Expiry Card\")\n",
    "if gender == \"m\":\n",
    "    if age >=19 and age <= 25:\n",
    "        print (\"Issue Short Expiry Card\")\n",
    "    if age >= 26 and age <= 64 and salary >= 30000:\n",
    "        print (\"Issue Short Expiry Card\")\n",
    "    elif age >= 26 and age <= 64 and salary <= 30000:\n",
    "        print (\"Issue Longer Expiry Card\")\n",
    "        "
   ]
  },
  {
   "cell_type": "code",
   "execution_count": 30,
   "id": "4e6e6b7e",
   "metadata": {},
   "outputs": [
    {
     "name": "stdout",
     "output_type": "stream",
     "text": [
      "[10, 20, 21, 30, 32, 28, 29]\n",
      "21\n",
      "[10, 20, 21, 30, 'karachi', 32, 28, 29, 'pakistan']\n",
      "[30, 'karachi', 32, 28, 29, 'pakistan']\n",
      "[21, 30, 'karachi', 32]\n",
      "[10, 20, 21, 30, 'karachi']\n",
      "[29, 'pakistan']\n"
     ]
    }
   ],
   "source": [
    "khi_temp = [10,20,21,30,32,28,29]\n",
    "print (khi_temp) #gives full list\n",
    "print (khi_temp[2])\n",
    "\n",
    "khi_temp.append(\"pakistan\")\n",
    "khi_temp.insert(4,\"karachi\") #insert (index, \"value\")\n",
    "print (khi_temp)\n",
    "print (khi_temp[3:]) #bring third index till last index\n",
    "print (khi_temp[2:6]) #bring second index till 5th index (exclude 6th till onwards)\n",
    "print (khi_temp[:5]) #bring first index till 4th (exclude 5th till onwards)\n",
    "print (khi_temp[-2:]) #bring last two index\n",
    "print (khi_temp[:-2])\n"
   ]
  },
  {
   "cell_type": "code",
   "execution_count": 38,
   "id": "e3a25df2",
   "metadata": {},
   "outputs": [
    {
     "name": "stdout",
     "output_type": "stream",
     "text": [
      "[10, 20, 21, 30, 'karachi', 32, 28, 29, 'pakistan']\n",
      "[20, 21, 30, 'karachi', 32, 28, 29, 'pakistan']\n",
      "[20, 21, 30, 32, 28, 29, 'pakistan']\n",
      "[20, 21, 29, 'pakistan']\n"
     ]
    },
    {
     "data": {
      "text/plain": [
       "21"
      ]
     },
     "execution_count": 38,
     "metadata": {},
     "output_type": "execute_result"
    }
   ],
   "source": [
    "# list for deleting, removing and popping function\n",
    "test_temp = [10,20,21,30,\"karachi\",32,28,29,\"pakistan\"]\n",
    "\n",
    "print (test_temp)\n",
    "del test_temp[0] #receive index no.\n",
    "print (test_temp)\n",
    "\n",
    "test_temp.remove(\"karachi\") #receive value (not index no.)\n",
    "print (test_temp)\n",
    "\n",
    "del test_temp[2:5] # 2nd index till 4th index removed/deleted\n",
    "print (test_temp)\n",
    "\n",
    "test_temp.pop(1) #remove 1st index and gives removed value as output\n",
    "# print (test_temp)"
   ]
  },
  {
   "cell_type": "code",
   "execution_count": 41,
   "id": "4f87124a",
   "metadata": {},
   "outputs": [
    {
     "name": "stdout",
     "output_type": "stream",
     "text": [
      "20\n",
      "25\n",
      "30\n",
      "35\n",
      "40\n",
      "45\n",
      "50\n",
      "60\n"
     ]
    }
   ],
   "source": [
    "# list has square brackets / braces []\n",
    "# tupples has round brackets / braces ()\n",
    "# values are constant and cannot be overriden in tupples\n",
    "# add, del, pop, append cannt be used in tupples\n",
    "\n",
    "pk_temp = (20,25,30,35,40,45,50,60)\n",
    "pk_temp #does not require to type print\n",
    "\n",
    "for i in pk_temp:\n",
    "    print(i)"
   ]
  },
  {
   "cell_type": "code",
   "execution_count": 47,
   "id": "6784e818",
   "metadata": {},
   "outputs": [
    {
     "name": "stdout",
     "output_type": "stream",
     "text": [
      "-11\n"
     ]
    },
    {
     "data": {
      "text/plain": [
       "8"
      ]
     },
     "execution_count": 47,
     "metadata": {},
     "output_type": "execute_result"
    }
   ],
   "source": [
    "numbers = [10,20,300,-11,-1,2,200,-10]\n",
    "min_value = numbers[0]\n",
    "\n",
    "for i in numbers:\n",
    "    if i < min_value:\n",
    "        min_value = i\n",
    "print(min_value) #gives minimum value of numbers\n",
    "\n",
    "len(numbers) #gives length of numbers"
   ]
  },
  {
   "cell_type": "code",
   "execution_count": 64,
   "id": "2e84a9cd",
   "metadata": {},
   "outputs": [
    {
     "name": "stdout",
     "output_type": "stream",
     "text": [
      "11\n",
      "150\n",
      "700\n",
      "63.63636363636363\n",
      "1010101010101\n"
     ]
    }
   ],
   "source": [
    "new_numbers = [10,20,30,40,50,60,150,70,80,90,100]\n",
    "count = 0\n",
    "max_value = new_numbers [0]\n",
    "\n",
    "\n",
    "for i in new_numbers:\n",
    "    count += 1\n",
    "print (count) # gives no. of values in list\n",
    "\n",
    "# len(new_numbers)  runs when there is no other command and it will bring count/no. of values in list.\n",
    "\n",
    "for i in new_numbers:\n",
    "    if i > max_value:\n",
    "        max_value = i\n",
    "print (max_value) # gives maximum value in list\n",
    "\n",
    "sum = 0\n",
    "for i in new_numbers:\n",
    "    sum += i\n",
    "print (sum) #gives sum of values in list\n",
    "print (sum/count) #gives avg of values in list\n",
    "\n",
    "binary = \"\"\n",
    "bin_numbers = [1,2,3,4,5,6,7,8,9,10,11,12,13]\n",
    "for i in bin_numbers:\n",
    "    binary += str(i % 2)\n",
    "print (binary)\n",
    "    "
   ]
  },
  {
   "cell_type": "code",
   "execution_count": null,
   "id": "fed1bf4a",
   "metadata": {},
   "outputs": [],
   "source": []
  }
 ],
 "metadata": {
  "kernelspec": {
   "display_name": "Python 3 (ipykernel)",
   "language": "python",
   "name": "python3"
  },
  "language_info": {
   "codemirror_mode": {
    "name": "ipython",
    "version": 3
   },
   "file_extension": ".py",
   "mimetype": "text/x-python",
   "name": "python",
   "nbconvert_exporter": "python",
   "pygments_lexer": "ipython3",
   "version": "3.9.12"
  }
 },
 "nbformat": 4,
 "nbformat_minor": 5
}
