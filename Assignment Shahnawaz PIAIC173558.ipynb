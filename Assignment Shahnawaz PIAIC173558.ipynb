{
 "cells": [
  {
   "cell_type": "markdown",
   "metadata": {
    "id": "Hs3-rqQLaMOs"
   },
   "source": [
    "**Grand Assignment**\n",
    "\n",
    "**Name: Shahnawaz Hudani**\n",
    "\n",
    "**ID: PIAIC173558**"
   ]
  },
  {
   "cell_type": "markdown",
   "metadata": {
    "id": "yoFPv_Hcb3Iv"
   },
   "source": [
    "***Variables and Strings***"
   ]
  },
  {
   "cell_type": "markdown",
   "metadata": {
    "id": "XLAWmJh_b9vr"
   },
   "source": [
    "*1.**Simple Message:** Assign a message to a variable, and then print that\n",
    "message.* "
   ]
  },
  {
   "cell_type": "code",
   "execution_count": null,
   "metadata": {
    "id": "Xu9FoVk1aKtu",
    "outputId": "ce38abfa-de42-4b07-9cac-1732a752907e"
   },
   "outputs": [
    {
     "name": "stdout",
     "output_type": "stream",
     "text": [
      "My name is Shahnawaz Hudani and my ID is PIAIC173558\n"
     ]
    }
   ],
   "source": [
    "name = \"Shahnawaz Hudani\"\n",
    "inst = \"PIAIC\"\n",
    "id = 173558\n",
    "\n",
    "print (f\"My name is {name} and my ID is {inst}{id}\")"
   ]
  },
  {
   "cell_type": "markdown",
   "metadata": {
    "id": "Ckp41qGzcMhY"
   },
   "source": [
    "2.Find a quote from a famous person you admire. Print the\n",
    "quote and the name of its author. Your output should look something like the\n",
    "following, including the quotation marks:\n",
    "\n",
    "**Albert Einstein once said, “A person who never made a\n",
    "mistake never tried anything new.”**\n"
   ]
  },
  {
   "cell_type": "code",
   "execution_count": 1,
   "metadata": {
    "id": "RAOYKTZDc9l5",
    "outputId": "6e456ae9-1e46-417f-a728-fa35914e8ef4"
   },
   "outputs": [
    {
     "name": "stdout",
     "output_type": "stream",
     "text": [
      "Steve Jobs once said, \"Everyone in this country should learn how to program because it teaches you how to think.\"\n"
     ]
    }
   ],
   "source": [
    "quote = \"Everyone in this country should learn how to program because it teaches you how to think.\"\n",
    "person = \"Steve Jobs\"\n",
    "\n",
    "print (f\"{person} once said, \\\"{quote}\\\"\")"
   ]
  },
  {
   "cell_type": "markdown",
   "metadata": {
    "id": "5dsWBIrAduRU"
   },
   "source": [
    "*3. Use a variable to represent your favorite number. Then,\n",
    "using that variable, create a message that reveals your favorite number. Print\n",
    "that message*"
   ]
  },
  {
   "cell_type": "code",
   "execution_count": null,
   "metadata": {
    "id": "n5bKUt2Xdxet",
    "outputId": "4ef69827-f1ea-4d24-8745-255d610f66ca"
   },
   "outputs": [
    {
     "name": "stdout",
     "output_type": "stream",
     "text": [
      "My favourite number is 100\n"
     ]
    }
   ],
   "source": [
    "fav_number = 100\n",
    "\n",
    "print (f\"My favourite number is {fav_number}\")"
   ]
  },
  {
   "cell_type": "markdown",
   "metadata": {
    "id": "03-7JmJFh1gu"
   },
   "source": [
    "4. **Calculate Area of a Circle::**\n",
    "\n",
    "Write a Python program which accepts the radius of a circle from the user and compute the area.\n",
    "\n",
    "Program Console Sample Output 1:\n",
    "\n",
    "Input Radius: 0.5\n",
    "\n",
    "Area of Circle with radius 0.5 is 0.7853981634"
   ]
  },
  {
   "cell_type": "code",
   "execution_count": null,
   "metadata": {
    "id": "ZQqUhli7iD8V",
    "outputId": "440f49a0-ada9-4fe0-8604-434e03e483d2"
   },
   "outputs": [
    {
     "name": "stdout",
     "output_type": "stream",
     "text": [
      "Give radius to determine Area of Circle\n",
      "0.5\n",
      "0.78539816345\n"
     ]
    }
   ],
   "source": [
    "radius = float(input(\"Give radius to determine Area of Circle\\n\"))\n",
    "area = (radius**2)*3.1415926538\n",
    "\n",
    "print (area)"
   ]
  },
  {
   "cell_type": "markdown",
   "metadata": {
    "id": "_52LUHoriEdK"
   },
   "source": [
    "5. **Check Number either positive, negative or zero::**\n",
    "\n",
    "Write a Python program to check if a number is positive, \n",
    "\n",
    "negative or zero\n",
    "\n",
    "Program Console Sample Output 1:\n",
    "\n",
    "Enter Number: -1\n",
    "\n",
    "Negative Number Entered\n",
    "\n",
    "Program Console Sample Output 2:\n",
    "\n",
    "Integer: 3\n",
    "\n",
    "Positive Number Entered\n",
    "\n",
    "Program Console Sample Output 3:\n",
    "\n",
    "Integer: 0\n",
    "\n",
    "Zero Entered"
   ]
  },
  {
   "cell_type": "code",
   "execution_count": null,
   "metadata": {
    "id": "_yLJAc80iXk0",
    "outputId": "542b0ee1-1b1b-4cb3-998e-96e065d8f5f7"
   },
   "outputs": [
    {
     "name": "stdout",
     "output_type": "stream",
     "text": [
      "Enter number\n",
      "-5\n",
      "Negative Number Entered\n"
     ]
    }
   ],
   "source": [
    "user_number = int(input(\"Enter number\\n\"))\n",
    "\n",
    "if user_number == 0:\n",
    "    print (\"Zero Entered\")\n",
    "elif user_number >= 0:\n",
    "    print (\"Positive Number Entered\")\n",
    "else:\n",
    "    print (\"Negative Number Entered\")"
   ]
  },
  {
   "cell_type": "markdown",
   "metadata": {
    "id": "vjXA6uhpiYQX"
   },
   "source": [
    "6. **Vowel Tester**\n",
    "Write a Python program to test whether a passed letter is a vowel or not\n",
    "\n",
    "Program Console Output 1:\n",
    "\n",
    "Enter a character: A\n",
    "\n",
    "Letter A is Vowel\n",
    "\n",
    "Program Console Output 2:\n",
    "\n",
    "Enter a character: e\n",
    "\n",
    "Letter e is Vowel\n",
    "\n",
    "Program Console Output 2:\n",
    "\n",
    "Enter a character: N\n",
    "\n",
    "Letter N is not Vowel."
   ]
  },
  {
   "cell_type": "code",
   "execution_count": null,
   "metadata": {
    "id": "L62zqtG1jEb9",
    "outputId": "083a9fee-a7d6-4193-986d-e53a2c3457ac"
   },
   "outputs": [
    {
     "name": "stdout",
     "output_type": "stream",
     "text": [
      "Enter a Character:\n",
      "v\n",
      "Letter v is not vowel\n"
     ]
    }
   ],
   "source": [
    "user_input = input(\"Enter a Character:\\n\")\n",
    "\n",
    "if user_input == \"A\" or user_input == \"E\" or user_input == \"I\" or user_input == \"O\" or user_input == \"U\":\n",
    "    print (f\"Letter {user_input} is vowel\")\n",
    "elif user_input == \"a\" or user_input == \"e\" or user_input == \"i\" or user_input == \"o\" or user_input == \"u\":\n",
    "    print (f\"Letter {user_input} is vowel\")\n",
    "else:\n",
    "    print (f\"Letter {user_input} is not vowel\")"
   ]
  },
  {
   "cell_type": "code",
   "execution_count": null,
   "metadata": {
    "id": "bfFbIiCKuEul",
    "outputId": "5cf1bfc6-700b-4515-d0ca-c6e33fc19b10"
   },
   "outputs": [
    {
     "name": "stdout",
     "output_type": "stream",
     "text": [
      "Enter a Character:  A\n",
      "Letter A is vowel\n"
     ]
    }
   ],
   "source": [
    "# This method came into my mind later so please consider any of both\n",
    "vowels = [\"A\",\"E\",\"I\",\"O\",\"U\"]\n",
    "user_input = input(\"Enter a Character:  \")\n",
    "\n",
    "if user_input in vowels:\n",
    "    print (f\"Letter {user_input} is vowel\")\n",
    "else:\n",
    "    print (f\"Letter {user_input} is NOT vowel\")\n",
    "        "
   ]
  },
  {
   "cell_type": "markdown",
   "metadata": {
    "id": "qZIGjsnDjFdk"
   },
   "source": [
    "7. **BMI Calculator**\n",
    "\n",
    "Write a Python program to calculate body mass index\n",
    "Program Console Sample 1:\n",
    "\n",
    "Enter Height in Cm: 180\n",
    "\n",
    "Enter Weight in Kg: 75\n",
    "\n",
    "Your BMI is 23.15"
   ]
  },
  {
   "cell_type": "code",
   "execution_count": 4,
   "metadata": {
    "id": "lE-JyyTnjcJU",
    "outputId": "86a94d1a-e6c2-4412-e4f5-36fb2cce4767"
   },
   "outputs": [
    {
     "name": "stdout",
     "output_type": "stream",
     "text": [
      "Enter Height in Cm: 180\n",
      "Enter Weight in kg: 75\n",
      "23.15\n"
     ]
    }
   ],
   "source": [
    "height = int(input(\"Enter Height in Cm: \"))\n",
    "weight = int(input(\"Enter Weight in kg: \"))\n",
    "\n",
    "h_in_m = height * 0.01\n",
    "\n",
    "bmi = weight/h_in_m**2\n",
    "bmi_float = \"{:.2f}\".format(bmi)\n",
    "\n",
    "print (bmi_float)\n",
    "\n"
   ]
  },
  {
   "cell_type": "markdown",
   "metadata": {
    "id": "11fYzZYid3qq"
   },
   "source": [
    "**List::**"
   ]
  },
  {
   "cell_type": "markdown",
   "metadata": {
    "id": "oUNnrKdyeOks"
   },
   "source": [
    "8. **Store the names of a few of your friends in a list called names**\n",
    "\n",
    " Print each person’s name by accessing each element in the list, one at a time."
   ]
  },
  {
   "cell_type": "code",
   "execution_count": 27,
   "metadata": {
    "id": "RY49qmHQeOGB",
    "outputId": "16979255-aea5-4741-96f9-06e80489c5c8"
   },
   "outputs": [
    {
     "name": "stdout",
     "output_type": "stream",
     "text": [
      "Ali Ahmed Danny Fahim Uzair Javed Waheed\n"
     ]
    }
   ],
   "source": [
    "names = [\"Ali\", \"Ahmed\", \"Danny\", \"Fahim\", \"Uzair\", \"Javed\", \"Waheed\"]\n",
    "print (names[0],names[1],names[2],names[3],names[4],names[5],names[6])"
   ]
  },
  {
   "cell_type": "markdown",
   "metadata": {
    "id": "HQe4CmBLd0a0"
   },
   "source": [
    "9. Start with the list you used in Question 4, but instead of just  printing each person’s name, print a message to them. The text of each message should be the same, but each message should be personalized with the\n",
    "person’s name."
   ]
  },
  {
   "cell_type": "code",
   "execution_count": null,
   "metadata": {
    "id": "QfaA6SZieroG",
    "outputId": "3c6fd9b0-80b9-4c62-8782-4e7a3a4cdbc2"
   },
   "outputs": [
    {
     "name": "stdout",
     "output_type": "stream",
     "text": [
      "Salam and Welcome to Mr. Ali\n",
      "Salam and Welcome to Mr. Ahmed\n",
      "Salam and Welcome to Mr. Danny\n",
      "Salam and Welcome to Mr. Fahim\n",
      "Salam and Welcome to Mr. Uzair\n",
      "Salam and Welcome to Mr. Javed\n",
      "Salam and Welcome to Mr. Waheed\n"
     ]
    }
   ],
   "source": [
    "for name in names:\n",
    "    print (f\"Salam and Welcome to Mr. {name}\")"
   ]
  },
  {
   "cell_type": "markdown",
   "metadata": {
    "id": "3t-zoTSTesyI"
   },
   "source": [
    " 10.**Make a python program that conatains your nine favourite dishes in a list called foods.**\n",
    "Print the message, The first three items in the list are:\n",
    "\n",
    "Then use a slice to print the first three items from that program’s list.\n",
    "\n",
    "Print the message, Three items from the middle of the list are:\n",
    "\n",
    "Use a slice to print three items from the middle of the list.\n",
    "\n",
    "Print the message, The last three items in the list are:\n",
    "\n",
    "Use a slice to print the last three items in the list."
   ]
  },
  {
   "cell_type": "code",
   "execution_count": 7,
   "metadata": {
    "colab": {
     "base_uri": "https://localhost:8080/"
    },
    "executionInfo": {
     "elapsed": 534,
     "status": "ok",
     "timestamp": 1659078048089,
     "user": {
      "displayName": "Shahnawaz Nazim Ali",
      "userId": "00477060486990640142"
     },
     "user_tz": -300
    },
    "id": "ZpnPQbgAmQhu",
    "outputId": "97cbed53-c47b-4974-ed5d-086844c8d76c"
   },
   "outputs": [
    {
     "name": "stdout",
     "output_type": "stream",
     "text": [
      "['biryani', 'karahi', 'daalchawal', 'korma', 'kofta', 'french-fries', 'burger', 'tikka', 'bbq-club-sandwitch']\n",
      "biryani karahi daalchawal\n",
      "['biryani', 'karahi', 'daalchawal']\n",
      "korma kofta french-fries\n",
      "['korma', 'kofta', 'french-fries']\n",
      "burger tikka bbq-club-sandwitch\n",
      "['burger', 'tikka', 'bbq-club-sandwitch']\n"
     ]
    }
   ],
   "source": [
    "foods = [\"biryani\", \"karahi\", \"daalchawal\", \"korma\", \"kofta\", \"french-fries\", \"burger\", \"tikka\", \"bbq-club-sandwitch\"]\n",
    "\n",
    "print (foods)\n",
    "\n",
    "# print first three items without slice\n",
    "print (foods[0], foods[1], foods[2])\n",
    "# print first three items with slice\n",
    "print (foods[:3])\n",
    "\n",
    "# print three items from middle without slice\n",
    "print (foods[3], foods[4], foods[5])\n",
    "# print three items from middle with slice\n",
    "print (foods[3:6])\n",
    "\n",
    "# print last three items without slice\n",
    "print (foods[6], foods[7], foods[8])\n",
    "# print last three items with slice\n",
    "print (foods[6:])"
   ]
  },
  {
   "cell_type": "markdown",
   "metadata": {
    "id": "h37WaaZKmRMe"
   },
   "source": [
    "11. **Start with your program from your last Question8.**\n",
    "Make a copy of the list of foods, and call it friend_foods.\n",
    "Then, do the following:\n",
    "\n",
    "Add a new dish to the original list.\n",
    "\n",
    "Add a different dish to the list friend_foods.\n",
    "\n",
    "Prove that you have two separate lists.\n",
    "\n",
    "Print the message, My favorite pizzas are: and then use a for loop to print the first list.\n",
    "\n",
    "Print the message,\n",
    "\n",
    "My friend’s favorite foods are:, and then use a for loop to print the second list.\n",
    "\n",
    "NOTE: Make sure each new dish is stored in the appropriate list."
   ]
  },
  {
   "cell_type": "code",
   "execution_count": 22,
   "metadata": {
    "colab": {
     "base_uri": "https://localhost:8080/",
     "height": 166
    },
    "executionInfo": {
     "elapsed": 888,
     "status": "error",
     "timestamp": 1659078575981,
     "user": {
      "displayName": "Shahnawaz Nazim Ali",
      "userId": "00477060486990640142"
     },
     "user_tz": -300
    },
    "id": "6FvxV2CioBQB",
    "outputId": "09d85f5c-610f-4bec-ad49-e4fafd3ca5d9"
   },
   "outputs": [
    {
     "name": "stdout",
     "output_type": "stream",
     "text": [
      "['biryani', 'karahi', 'daalchawal', 'korma', 'kofta', 'french-fries', 'burger', 'tikka', 'bbq-club-sandwitch']\n",
      "['biryani', 'karahi', 'daalchawal', 'korma', 'kofta', 'french-fries', 'burger', 'tikka', 'bbq-club-sandwitch', 'kabab']\n",
      "['biryani', 'karahi', 'daalchawal', 'korma', 'kofta', 'french-fries', 'burger', 'tikka', 'bbq-club-sandwitch', 'malai-boti']\n",
      "False\n",
      "my favorite foods are: biryani\n",
      "my favorite foods are: karahi\n",
      "my favorite foods are: daalchawal\n",
      "my favorite foods are: korma\n",
      "my favorite foods are: kofta\n",
      "my favorite foods are: french-fries\n",
      "my favorite foods are: burger\n",
      "my favorite foods are: tikka\n",
      "my favorite foods are: bbq-club-sandwitch\n",
      "my favorite foods are: kabab\n",
      "my friend's favorite foods are: biryani\n",
      "my friend's favorite foods are: karahi\n",
      "my friend's favorite foods are: daalchawal\n",
      "my friend's favorite foods are: korma\n",
      "my friend's favorite foods are: kofta\n",
      "my friend's favorite foods are: french-fries\n",
      "my friend's favorite foods are: burger\n",
      "my friend's favorite foods are: tikka\n",
      "my friend's favorite foods are: bbq-club-sandwitch\n",
      "my friend's favorite foods are: malai-boti\n"
     ]
    }
   ],
   "source": [
    "\n",
    "print (foods)\n",
    "# making of copy of friends foods list\n",
    "friends_foods = []\n",
    "for food in foods:\n",
    "    friends_foods.append(food)\n",
    "\n",
    "# deleting new appended value incase of already added\n",
    "if \"kabab\" in foods:\n",
    "    foods.remove(\"kabab\")\n",
    "    \n",
    "# appending new values in both list\n",
    "foods.append(\"kabab\")\n",
    "friends_foods.append(\"malai-boti\")\n",
    "\n",
    "print (foods)\n",
    "print (friends_foods)\n",
    "\n",
    "# proving both list are different\n",
    "print (foods == friends_foods)\n",
    "\n",
    "# looping both list\n",
    "for myfood in foods:\n",
    "    print (f\"my favorite foods are: {myfood}\")\n",
    "\n",
    "for friend_food in friends_foods:\n",
    "    print (f\"my friend's favorite foods are: {friend_food}\")\n"
   ]
  },
  {
   "cell_type": "code",
   "execution_count": null,
   "metadata": {
    "id": "DHSNF4jVuEvS"
   },
   "outputs": [],
   "source": []
  },
  {
   "cell_type": "code",
   "execution_count": null,
   "metadata": {},
   "outputs": [],
   "source": []
  }
 ],
 "metadata": {
  "colab": {
   "collapsed_sections": [],
   "name": "Assignment Shahnawaz PIAIC173558.ipynb",
   "provenance": []
  },
  "kernelspec": {
   "display_name": "Python 3 (ipykernel)",
   "language": "python",
   "name": "python3"
  },
  "language_info": {
   "codemirror_mode": {
    "name": "ipython",
    "version": 3
   },
   "file_extension": ".py",
   "mimetype": "text/x-python",
   "name": "python",
   "nbconvert_exporter": "python",
   "pygments_lexer": "ipython3",
   "version": "3.9.12"
  }
 },
 "nbformat": 4,
 "nbformat_minor": 1
}
