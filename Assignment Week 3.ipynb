{
 "cells": [
  {
   "cell_type": "code",
   "execution_count": 2,
   "id": "a78248ab",
   "metadata": {},
   "outputs": [
    {
     "name": "stdout",
     "output_type": "stream",
     "text": [
      "Enter First Number 2\n",
      "Enter Second Number 5\n",
      "7\n",
      "-3\n",
      "10\n",
      "0.4\n"
     ]
    }
   ],
   "source": [
    "a = int(input(\"Enter First Number \"))\n",
    "b = int(input(\"Enter Second Number \"))\n",
    "\n",
    "print (a+b)\n",
    "print (a-b)\n",
    "print (a*b)\n",
    "print (a/b)\n",
    "\n"
   ]
  },
  {
   "cell_type": "code",
   "execution_count": 8,
   "id": "a35ea6fd",
   "metadata": {},
   "outputs": [
    {
     "name": "stdout",
     "output_type": "stream",
     "text": [
      "Enter your first name shahnawaz\n",
      "Enter second name nazim\n",
      "shahnawaz nazim\n"
     ]
    }
   ],
   "source": [
    "c = input(\"Enter your first name \")\n",
    "d = input(\"Enter second name \")\n",
    "\n",
    "print (c +\" \"+ d)"
   ]
  },
  {
   "cell_type": "code",
   "execution_count": 18,
   "id": "1b88bf1d",
   "metadata": {},
   "outputs": [
    {
     "name": "stdout",
     "output_type": "stream",
     "text": [
      "Enter Your Nameali\n",
      "Enter Marks of CS30\n",
      "Enter Marks of AI40\n",
      "Enter Marks of ML50\n",
      "Enter Marks of DS60\n",
      "Dear Mr. ali\n",
      "You got 30 in CS\n",
      "You got 40 in AI\n",
      "You got 50 in ML\n",
      "You got 60 in DS\n",
      "Your total marks are 180\n",
      "Your percentage is 45.0\n"
     ]
    }
   ],
   "source": [
    "name = input(\"Enter Your Name\")\n",
    "sub_1 = int(input(\"Enter Marks of CS\"))\n",
    "sub_2 = int(input(\"Enter Marks of AI\"))\n",
    "sub_3 = int(input(\"Enter Marks of ML\"))\n",
    "sub_4 = int(input(\"Enter Marks of DS\"))\n",
    "total = int(sub_1 + sub_2 + sub_3 + sub_4)\n",
    "percent = (total / 400) * 100\n",
    "\n",
    "print (\"Dear Mr. \" + name)\n",
    "print (\"You got \" + str(sub_1) + \" in CS\")\n",
    "print (\"You got \" + str(sub_2) + \" in AI\")\n",
    "print (\"You got \" + str(sub_3) + \" in ML\")\n",
    "print (\"You got \" + str(sub_4) + \" in DS\")\n",
    "print (\"Your total marks are \" + str(total))\n",
    "print (\"Your percentage is \" + str(percent))\n"
   ]
  },
  {
   "cell_type": "code",
   "execution_count": null,
   "id": "b50314b6",
   "metadata": {},
   "outputs": [],
   "source": []
  },
  {
   "cell_type": "code",
   "execution_count": null,
   "id": "364ac10e",
   "metadata": {},
   "outputs": [],
   "source": []
  }
 ],
 "metadata": {
  "kernelspec": {
   "display_name": "Python 3 (ipykernel)",
   "language": "python",
   "name": "python3"
  },
  "language_info": {
   "codemirror_mode": {
    "name": "ipython",
    "version": 3
   },
   "file_extension": ".py",
   "mimetype": "text/x-python",
   "name": "python",
   "nbconvert_exporter": "python",
   "pygments_lexer": "ipython3",
   "version": "3.9.12"
  }
 },
 "nbformat": 4,
 "nbformat_minor": 5
}
